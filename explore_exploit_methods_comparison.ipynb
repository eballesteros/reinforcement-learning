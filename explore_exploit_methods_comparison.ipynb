{
 "cells": [
  {
   "cell_type": "code",
   "execution_count": null,
   "metadata": {},
   "outputs": [],
   "source": [
    "import matplotlib.pyplot as plt\n",
    "from explore_exploit_methods import *\n",
    "\n",
    "%matplotlib inline"
   ]
  },
  {
   "cell_type": "code",
   "execution_count": null,
   "metadata": {},
   "outputs": [],
   "source": [
    "m1,m2,m3 = 1.0, 2.0, 3.0\n",
    "N = 100000\n",
    "\n",
    "results = {'epsilon_greedy' : epsilon_greedy(m1, m2, m3, 0.1, N, plot_results = True),\n",
    "           'decaying_epsilon_greedy' : decaying_epsilon_greedy(m1, m2, m3, 0.7, N, plot_results = True),\n",
    "           'optimistic_initial_value' : optimistic_initial_value(m1, m2, m3, 15.0, N, plot_results = True),\n",
    "           'UCB1' : UCB1(m1, m2, m3, N, plot_results = True),\n",
    "           'thompson_samplig' : thompson_samplig(m1, m2, m3, N, plot_results = True)}"
   ]
  },
  {
   "cell_type": "code",
   "execution_count": null,
   "metadata": {},
   "outputs": [],
   "source": [
    "plt.figure()\n",
    "for alg, result in results.items():\n",
    "    plt.plot(result, label = alg)\n",
    "plt.xscale('log')\n",
    "plt.legend()\n",
    "plt.show()"
   ]
  },
  {
   "cell_type": "markdown",
   "metadata": {},
   "source": [
    "Todos los alg son aprox iguales (menos epsilon greeedy convencional que siempre underperforms\n",
    "\n",
    "decaying_epsilon_greedy\n",
    "optimistic_initial_value\n",
    "\n",
    "pueden dar ploblemas de convergencia a valor incorrecto con parametros iniciales incorrectos"
   ]
  },
  {
   "cell_type": "code",
   "execution_count": null,
   "metadata": {},
   "outputs": [],
   "source": []
  }
 ],
 "metadata": {
  "kernelspec": {
   "display_name": "Python 3",
   "language": "python",
   "name": "python3"
  },
  "language_info": {
   "codemirror_mode": {
    "name": "ipython",
    "version": 3
   },
   "file_extension": ".py",
   "mimetype": "text/x-python",
   "name": "python",
   "nbconvert_exporter": "python",
   "pygments_lexer": "ipython3",
   "version": "3.5.3"
  }
 },
 "nbformat": 4,
 "nbformat_minor": 2
}
